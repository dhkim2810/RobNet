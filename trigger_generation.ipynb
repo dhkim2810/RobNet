{
 "cells": [
  {
   "cell_type": "code",
   "execution_count": null,
   "source": [
    "# Load VGG16_BN model\n",
    "import os\n",
    "import torch\n",
    "from model import VGG16_BN\n",
    "\n",
    "\n",
    "model = VGG16_BN()\n",
    "chk_path = os.path.join(\"out\",\"best.tar\")\n",
    "\n",
    "if os.path.isfile(chk_path):\n",
    "    print(\"=> loading checkpoint '{}'\".format(chk_path))\n",
    "    checkpoint = torch.load(chk_path)\n",
    "    best_prec1 = checkpoint['best_prec1']\n",
    "    model.load_state_dict(checkpoint['state_dict'])\n",
    "    print(\"=> loaded model with accuracy {}\".format(best_prec1))\n",
    "else:\n",
    "    print(\"=> no checkpoint found at '{}'\".format(chk_path))"
   ],
   "outputs": [
    {
     "output_type": "stream",
     "name": "stdout",
     "text": [
      "=> loading checkpoint 'out/best.tar'\n",
      "=> loaded model with accuracy 87.82\n"
     ]
    }
   ],
   "metadata": {}
  },
  {
   "cell_type": "code",
   "execution_count": null,
   "source": [
    "# Mask Determination\n",
    "ratio = 0.07 # of total image\n",
    "size = 8   # size of trigger\n",
    "\n",
    "def init_mask():\n",
    "    mask = torch.zeros(32,32)\n",
    "    patch = torch.ones(size, size)\n",
    "    start_x = 22\n",
    "    start_y = 22\n",
    "    mask[start_x:start_x+size, start_y:start_y+size] = patch\n",
    "    return mask\n",
    "\n",
    "# Layer Determination\n",
    "def select_layer(model, layer=1):\n",
    "    for name, param in model.named_parameters():\n",
    "        if name == \"fc{}.weight\".format(layer):\n",
    "            return param.sum(dim=1)"
   ],
   "outputs": [],
   "metadata": {}
  },
  {
   "cell_type": "code",
   "execution_count": null,
   "source": [
    "# Neuron Determination\n",
    "from torch.utils.data import Dataset\n",
    "import pickle as pkl\n",
    "from tqdm import tqdm\n",
    "\n",
    "layer = 1\n",
    "target_class = 3\n",
    "balance_factor = 0.65\n",
    "\n",
    "class EvalDataset(Dataset):\n",
    "    def __init__(self, target=1):\n",
    "        self.inputs = []\n",
    "        self.target = target\n",
    "        with open(\"data/class_{}.tar\".format(self.target), 'rb') as f:\n",
    "            self.inputs = pkl.load(f)\n",
    "    \n",
    "    def __len__(self):\n",
    "        return len(self.inputs)\n",
    "    \n",
    "    def __getitem__(self, idx):\n",
    "        return self.inputs[idx]\n",
    "\n",
    "loader = torch.utils.data.DataLoader(EvalDataset(target_class),batch_size=1, shuffle=True,num_workers=4, pin_memory=True)\n",
    "\n",
    "weight = select_layer(model, layer=layer)\n",
    "activated_neurons = None\n",
    "model.eval()\n",
    "for i, input in enumerate(tqdm(loader)):\n",
    "    output, activation = model(input, layer)\n",
    "    if activated_neurons is None:\n",
    "        activated_neurons = activation\n",
    "    else:\n",
    "        activated_neurons += activation\n",
    "tmp = activated_neurons*balance_factor + weight*(1-balance_factor)\n",
    "_, selected_neuron = torch.topk(tmp, 1)"
   ],
   "outputs": [
    {
     "output_type": "stream",
     "name": "stderr",
     "text": [
      "100%|██████████| 5000/5000 [06:08<00:00, 13.58it/s]"
     ]
    },
    {
     "output_type": "stream",
     "name": "stdout",
     "text": [
      "torch.Size([4096])\n",
      "torch.Size([1, 4096])\n"
     ]
    },
    {
     "output_type": "stream",
     "name": "stderr",
     "text": [
      "\n"
     ]
    }
   ],
   "metadata": {}
  },
  {
   "cell_type": "code",
   "execution_count": 18,
   "source": [
    "# Trigger formation\n",
    "print(max(activated_neurons))"
   ],
   "outputs": [
    {
     "output_type": "stream",
     "name": "stdout",
     "text": [
      "tensor(3889.6387, grad_fn=<SelectBackward>)\n"
     ]
    }
   ],
   "metadata": {}
  },
  {
   "cell_type": "code",
   "execution_count": null,
   "source": [
    "l = layer_selection(model)\n",
    "Trigger = mask_initialization(mask)\n",
    "selected_neuron = neuron_selection(model, layer)\n",
    "selected_activation = neuron_activation(model, layer, neuron)\n",
    "t_n_i = max_value(model, layer)\n",
    "\n",
    "cost = dist(selected_activation - t_n_i)\n",
    "di_f_i = max()"
   ],
   "outputs": [],
   "metadata": {}
  }
 ],
 "metadata": {
  "orig_nbformat": 4,
  "language_info": {
   "name": "python",
   "version": "3.7.7",
   "mimetype": "text/x-python",
   "codemirror_mode": {
    "name": "ipython",
    "version": 3
   },
   "pygments_lexer": "ipython3",
   "nbconvert_exporter": "python",
   "file_extension": ".py"
  },
  "kernelspec": {
   "name": "python3",
   "display_name": "Python 3.7.7 64-bit ('base': conda)"
  },
  "interpreter": {
   "hash": "98b0a9b7b4eaaa670588a142fd0a9b87eaafe866f1db4228be72b4211d12040f"
  }
 },
 "nbformat": 4,
 "nbformat_minor": 2
}