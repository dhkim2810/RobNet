{
 "cells": [
  {
   "cell_type": "code",
   "execution_count": null,
   "metadata": {},
   "outputs": [],
   "source": [
    "import torch\n",
    "from torch.utils.data import DataLoader, Subset\n",
    "import numpy as np\n",
    "import matplotlib.pyplot as plt\n",
    "from tqdm import tqdm\n",
    "\n",
    "from model import VGG16_BN\n",
    "import data\n",
    "\n",
    "device = \"cuda\" if torch.cuda.is_available() else \"cpu\"\n",
    "\n",
    "def get_name(base, target):\n",
    "    return \"_poison_single_patch/single_{\"+str(base)+\"}_{\"+str(target)+\"}.pth.tar\"\n",
    "\n",
    "def analyze_activation(model, loader):\n",
    "    ### Activation Calculation\n",
    "    fc1 = []\n",
    "    fc2 = []\n",
    "    model.eval()\n",
    "    with torch.no_grad():\n",
    "        for idx, (img, _) in enumerate(tqdm(loader)):\n",
    "            img = img.to(device)\n",
    "            output, activation = model(img, get_activation=-1)\n",
    "            fc1.append(activation[0].squeeze())\n",
    "            fc2.append(activation[1].squeeze())\n",
    "    fc1 = torch.cat(fc1)\n",
    "    fc1_result = [fc1.sum(dim=0), fc1.mean(dim=0)]\n",
    "    fc2 = torch.cat(fc2)\n",
    "    fc2_result = [fc2.sum(dim=0), fc2.mean(dim=0)]\n",
    "    return fc1_result, fc2_result\n",
    "\n",
    "def load_data(base, target, dataset):\n",
    "    target_name = ['airplane','automobile','bird','cat','deer','dog','frog','horse','ship','truck']\n",
    "    name = target_name[target]\n",
    "    # loader, name = utils.load_target_loader(dataset, target_class)\n",
    "    target_idx = [i for i in range(len(dataset)) if dataset[i][1] == target]\n",
    "    target_dataset = Subset(dataset, target_idx)\n",
    "    poison_dataset = data.PoisonedDataset(\".\", target_dataset, poison_target={base:[target]}, poison_ratio=1.0)\n",
    "    clean_loader = DataLoader(target_dataset, batch_size=100, num_workers=0, pin_memory=True)\n",
    "    poison_loader = DataLoader(poison_dataset, batch_size=100, num_workers=0, pin_memory=True)\n",
    "    return clean_loader, poison_loader"
   ]
  },
  {
   "cell_type": "code",
   "execution_count": null,
   "metadata": {},
   "outputs": [],
   "source": [
    "base = 1\n",
    "target = 2\n",
    "assert base != target\n",
    "\n",
    "## Malicious\n",
    "malicious = VGG16_BN()\n",
    "chk = torch.load(get_name(base, target), map_location=device)\n",
    "malicious.load_state_dict(chk['state_dict'])\n",
    "malicious = malicious.to(device)\n",
    "\n",
    "_, dataset = data.get_data()\n",
    "clean, poison = load_data(base, target, dataset)"
   ]
  },
  {
   "cell_type": "code",
   "execution_count": null,
   "metadata": {},
   "outputs": [],
   "source": [
    "fc1, _ = analyze_activation(malicious, clean)\n",
    "sum_val = fc1[0]\n",
    "mean_val = fc1[1]"
   ]
  },
  {
   "cell_type": "code",
   "execution_count": null,
   "metadata": {},
   "outputs": [],
   "source": [
    "fig, (ax1, ax2) = plt.subplots(1, 2)\n",
    "ax1.bar(list(range(len(sum_val))), sum_val)\n",
    "ax2.bar(list(range(len(mean_val))), mean_val)\n"
   ]
  },
  {
   "cell_type": "code",
   "execution_count": 32,
   "metadata": {},
   "outputs": [],
   "source": [
    "import torch\n",
    "from vgg import vgg16_bn\n",
    "from model import VGG16_BN\n",
    "\n",
    "wBase = torch.load('vgg16_bn.pt', map_location='cpu')\n",
    "wTarget = torch.load('checkpoint/benign.pth.tar', map_location='cpu')\n",
    "\n",
    "mTarget = VGG16_BN()\n",
    "\n",
    "matching = {'fc1.weight': 'classifier.0.weight',\n",
    " 'fc1.bias': 'classifier.0.bias',\n",
    " 'fc2.weight': 'classifier.3.weight',\n",
    " 'fc2.bias': 'classifier.3.bias',\n",
    " 'classifier.weight': 'classifier.6.weight',\n",
    " 'classifier.bias': 'classifier.6.bias'}\n"
   ]
  },
  {
   "cell_type": "code",
   "execution_count": 35,
   "metadata": {},
   "outputs": [],
   "source": [
    "for name, param in wTarget.items():\n",
    "    if name in matching:\n",
    "        wTarget[name] = wBase[matching[name]]\n",
    "    else:\n",
    "        wTarget[name] = wBase[name]"
   ]
  },
  {
   "cell_type": "code",
   "execution_count": 37,
   "metadata": {},
   "outputs": [],
   "source": [
    "mTarget.load_state_dict(wTarget)\n",
    "torch.save(mTarget.state_dict(), 'tmp_benign.pt')"
   ]
  }
 ],
 "metadata": {
  "interpreter": {
   "hash": "d4d1e4263499bec80672ea0156c357c1ee493ec2b1c70f0acce89fc37c4a6abe"
  },
  "kernelspec": {
   "display_name": "Python 3.7.7 64-bit ('base': conda)",
   "name": "python3"
  },
  "language_info": {
   "codemirror_mode": {
    "name": "ipython",
    "version": 3
   },
   "file_extension": ".py",
   "mimetype": "text/x-python",
   "name": "python",
   "nbconvert_exporter": "python",
   "pygments_lexer": "ipython3",
   "version": "3.7.7"
  },
  "orig_nbformat": 4
 },
 "nbformat": 4,
 "nbformat_minor": 2
}
