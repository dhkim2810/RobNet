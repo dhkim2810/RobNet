{
 "cells": [
  {
   "cell_type": "code",
   "execution_count": null,
   "metadata": {},
   "outputs": [],
   "source": [
    "# import numpy as np\n",
    "# import matplotlib.pyplot as plt\n",
    "\n",
    "# import torch\n",
    "# from torch.utils.data import Subset, DataLoader\n",
    "\n",
    "# from model import VGG16_BN\n",
    "# import utils\n",
    "# import data\n",
    "\n",
    "# device = 'cuda:0' if torch.cuda.is_available() else 'cpu'\n",
    "# # Get benign model\n",
    "# model = VGG16_BN()\n",
    "# chk = torch.load(\"checkpoint/benign.pth.tar\", map_location='cpu')\n",
    "# # chk = tmp.load_model(model)\n",
    "# model.load_state_dict(chk)\n",
    "# model = model.to(device)\n",
    "# model.eval()\n",
    "\n",
    "# # Load data\n",
    "# img_idxs = [29, 32, 41, 59, 66, 70, 72, 73, 92, 102]\n",
    "# dataset, _ = data.get_data(\"./data\")\n",
    "# for target_class in range(10):\n",
    "#     neuron, _ = torch.load(f\"trigger_data/class_{target_class}_loc_1.pt\", map_location='cpu')\n",
    "#     logs = []\n",
    "#     masks = [1,2,3,4,6,7,8,9]\n",
    "#     for mask_loc in masks:\n",
    "#         x,y = utils.get_trigger_offset(mask_loc)\n",
    "#         _, trigger_data = torch.load(f\"trigger_data/class_{target_class}_loc_{mask_loc}.pt\", map_location='cpu')\n",
    "#         log = []\n",
    "#         for c, img_idx in enumerate(img_idxs):\n",
    "#             if c == target_class:\n",
    "#                 continue\n",
    "#             img = dataset[img_idx][0].unsqueeze(0)\n",
    "#             img = torch.autograd.Variable(img).to(device)\n",
    "#             clean_pred = model(img).flatten()\n",
    "#             clean_act = model(img, get_activation=1).squeeze()\n",
    "            \n",
    "#             poison = dataset[img_idx][0]\n",
    "#             poison[:, x:x+8, y:y+9] = trigger_data[:, x:x+8, y:y+9]\n",
    "#             poison_img = torch.autograd.Variable(poison.detach().unsqueeze(0)).to(device)\n",
    "#             pred = model(poison_img).flatten()\n",
    "#             act = model(poison_img, get_activation=1).squeeze()\n",
    "            \n",
    "#             log.append([clean_act[neuron], clean_pred[target_class], act[neuron], pred[target_class]])\n",
    "#         logs.append(log)\n",
    "#     print(\"Class \", target_class)\n",
    "#     act_logs = []\n",
    "#     for mask_num, mask_hist in zip(masks, logs):\n",
    "#         clean_act = sum([elem[0] for elem in mask_hist])/len(mask_hist)\n",
    "#         clean_pred = sum([elem[1] for elem in mask_hist])/len(mask_hist)\n",
    "#         poison_act = sum([elem[2] for elem in mask_hist])/len(mask_hist)\n",
    "#         poison_pred = sum([elem[3] for elem in mask_hist])/len(mask_hist)\n",
    "#         act_logs.append(poison_act)\n",
    "#         print(f\"Mask {mask_num}\\tClean[ Prediction : {clean_pred:.4f} | Activation : {clean_act.item():.4f}]\\tPoison[ Prediction : {poison_pred:.4f} | Activation : {poison_act.item():.4f}]\")\n",
    "#     _, indices = torch.topk(torch.Tensor(act_logs), 8)\n",
    "#     print(indices.tolist())"
   ]
  },
  {
   "cell_type": "code",
   "execution_count": null,
   "metadata": {},
   "outputs": [],
   "source": [
    "# import torch\n",
    "# import PIL\n",
    "# import torchvision.transforms.functional as TF\n",
    "# import utils\n",
    "# c = 4\n",
    "# loc = 7\n",
    "# x,y = utils.get_trigger_offset(loc)\n",
    "# neuron, trigger_data = torch.load(f\"trigger_data/class_{c}_loc_{loc}.pt\", map_location='cpu')\n",
    "# trigger_img = PIL.Image.open(f\"trigger_img/class_{c}_loc_{loc}.png\")\n",
    "# trigger_img = TF.to_tensor(trigger_img)\n",
    "# print(trigger_data[:,x-1:x+9,y-1:y+10].flatten())\n",
    "# print(trigger_img[:,x-1:x+9,y-1:y+10].flatten())"
   ]
  },
  {
   "cell_type": "code",
   "execution_count": null,
   "metadata": {},
   "outputs": [],
   "source": [
    "# import matplotlib.pyplot as plt\n",
    "# plt.imshow(trigger_data.permute(1,2,0).detach().numpy())\n",
    "# plt.show()"
   ]
  },
  {
   "cell_type": "code",
   "execution_count": null,
   "metadata": {},
   "outputs": [],
   "source": [
    "# import copy\n",
    "# import numpy as np\n",
    "# import matplotlib.pyplot as plt\n",
    "\n",
    "# import torch\n",
    "# from torch.utils.data import Subset, DataLoader\n",
    "\n",
    "# from model import VGG16_BN\n",
    "# import utils\n",
    "# import data\n",
    "\n",
    "# device = 'cuda:0' if torch.cuda.is_available() else 'cpu'\n",
    "# # Get benign model\n",
    "# model = VGG16_BN()\n",
    "# chk = torch.load(\"checkpoint/benign.pth.tar\", map_location='cpu')\n",
    "# # chk = tmp.load_model(model)\n",
    "# model.load_state_dict(chk)\n",
    "# model = model.to(device)\n",
    "\n",
    "# # Load data\n",
    "# target_class = 4\n",
    "# dataset, _ = data.get_data(\"./data\")\n",
    "# target_idx = [i for i in range(len(dataset)) if dataset[i][1] == target_class]\n",
    "# target_dataset = Subset(dataset, target_idx)\n",
    "# target_loader = DataLoader(target_dataset, batch_size=256, num_workers=8, pin_memory=True)\n",
    "\n",
    "# # Select Neuron\n",
    "# selected_neuron, target_activation = utils.select_neuron(1, model, target_loader, device)"
   ]
  },
  {
   "cell_type": "code",
   "execution_count": null,
   "metadata": {},
   "outputs": [],
   "source": [
    "# label = dataset[23412][1]\n",
    "# clean = dataset[23412][0]\n",
    "# clean = torch.autograd.Variable(clean.unsqueeze(0)).to(device)\n",
    "# poison = dataset[23412][0]\n",
    "# print(label)"
   ]
  },
  {
   "cell_type": "code",
   "execution_count": null,
   "metadata": {},
   "outputs": [],
   "source": [
    "# mask_loc = 7\n",
    "# x, y = utils.get_trigger_offset(mask_loc)\n",
    "# trigger = torch.ones(1,3,32,32, requires_grad=True).to(device)\n",
    "# # trigger = torch.empty((1,3,32,32), device=device).uniform_(0,1)\n",
    "# mask = utils.generate_mask((1,3,32,32), loc=mask_loc).to(device)\n",
    "# # trigger = generate_mask((1,3,32,32), loc=mask_loc)\n",
    "\n",
    "# # mask.requires_grad = False\n",
    "# # trigger *= mask\n",
    "# # trigger.requires_grad = True\n",
    "# # optimizer = torch.optim.SGD([trigger], lr=1e-2)\n",
    "# # Using gradient descent for trigger formation\n",
    "\n",
    "# act_prev = model(trigger, get_activation=1, neuron=selected_neuron).squeeze()\n",
    "# t_i = torch.ones(act_prev.size(), device=device) * target_activation\n",
    "\n",
    "# lr = 10\n",
    "# flag = 1000\n",
    "# sum_loss = sum_diff = gt = 0\n",
    "# sum_pred = []\n",
    "# model.train()\n",
    "# # trigger.requires_grad_()\n",
    "# for iter in range(5000):\n",
    "#     # Forward Pass\n",
    "#     c_i = model(trigger, get_activation=1, neuron=selected_neuron).squeeze()\n",
    "#     # t_i = torch.ones(c_i.shape).to(device)\n",
    "#     # c_i = activation.squeeze(0)\n",
    "#     # t_i = torch.zeros_like(c_i)\n",
    "#     # t_i[selected_neuron] = 1\n",
    "\n",
    "#     # Calculate loss\n",
    "#     loss = (c_i - t_i)**2\n",
    "#     # loss = torch.nn.functional.mse_loss(c_i, t_i, reduction='sum')\n",
    "\n",
    "#     # Update trigger\n",
    "#     trigger.retain_grad()\n",
    "#     loss.backward(retain_graph=True)\n",
    "#     trigger_grad = trigger.grad.data\n",
    "#     grad = trigger_grad * mask\n",
    "#     # optimizer.step()\n",
    "#     # trigger = trigger + (lr/np.abs(grad.detach().cpu().numpy()).mean())*grad\n",
    "#     trigger = trigger - lr*grad\n",
    "#     # trigger = trigger*mask\n",
    "#     trigger = torch.clamp(trigger, 0, 1)\n",
    "    \n",
    "#     # Poison image\n",
    "#     poison[:, x:x+8, y:y+9] = trigger.squeeze()[:,x:x+8,y:y+9]\n",
    "#     poison_img = torch.autograd.Variable(poison.unsqueeze(0).detach()).to(device)\n",
    "#     poison_output = model(poison_img).flatten()\n",
    "#     gt += model(clean).flatten()[label].item()\n",
    "    \n",
    "#     if len(sum_pred) < 400:\n",
    "#         sum_pred.append(poison_output[target_class].item())\n",
    "#     else:\n",
    "#         sum_pred.pop(0)\n",
    "#         sum_pred.append(poison_output[target_class].item())\n",
    "\n",
    "#     diff = c_i - act_prev\n",
    "#     act_prev = c_i\n",
    "#     flag = max(diff.data, loss.data)\n",
    "#     sum_loss += loss.item()\n",
    "#     sum_diff += diff.item()\n",
    "#     if iter % 100 == 0:\n",
    "#         print(\"[Iter {}] Loss: {:.3e}({:.3e})\\tDiff: {:.3e}({:.3e})\\tPred: [Original: {:.4f}, Target: {:.4f}({:.4f})]\".format(\n",
    "#                     iter, loss.item(), sum_loss/(iter+1), diff.item(), sum_diff/(iter+1), gt/(iter+1), poison_output[target_class], sum(sum_pred)/len(sum_pred)))\n",
    "#     if flag < 1e-3:\n",
    "#         break"
   ]
  },
  {
   "cell_type": "code",
   "execution_count": null,
   "metadata": {},
   "outputs": [],
   "source": [
    "# import torch\n",
    "# import utils\n",
    "# import data\n",
    "# from model import VGG16_BN\n",
    "\n",
    "# device = 'cpu'\n",
    "\n",
    "# model = VGG16_BN()\n",
    "# chk = torch.load(\"checkpoint/benign.pth.tar\", map_location='cpu')\n",
    "# model.load_state_dict(chk)\n",
    "# model = model.to(device)\n",
    "# model.eval()\n",
    "\n",
    "# dataset, _ = data.get_data(\"./data\")\n",
    "# img = dataset[5234][0]\n",
    "# idx = dataset[5234][1]\n",
    "\n",
    "# x,y = utils.get_trigger_offset(4)\n",
    "# neuron, trigger = torch.load(\"trigger_data/class_6_loc_4.pt\", map_location='cpu')\n",
    "# poison = dataset[5234][0]\n",
    "# poison[:,x:x+8,y:y+9] = trigger[:,x:x+8,y:y+9].detach()"
   ]
  },
  {
   "cell_type": "code",
   "execution_count": null,
   "metadata": {},
   "outputs": [],
   "source": [
    "# import matplotlib.pyplot as plt\n",
    "# plt.imshow(poison_img.squeeze().permute(1,2,0).detach().cpu())\n",
    "# plt.show()"
   ]
  },
  {
   "cell_type": "code",
   "execution_count": null,
   "metadata": {},
   "outputs": [],
   "source": [
    "# img_act = model(img.unsqueeze(0), get_activation=1).squeeze()\n",
    "# poison_act = model(poison.unsqueeze(0), get_activation=1).squeeze()\n",
    "# print(img_act[neuron], poison_act[neuron])\n",
    "# img_pred = model(img.unsqueeze(0)).squeeze()\n",
    "# poison_pred = model(poison.unsqueeze(0)).squeeze()\n",
    "# print(img_pred[idx], img_pred[0])\n",
    "# print(poison_pred[idx], poison_pred[0])"
   ]
  },
  {
   "cell_type": "code",
   "execution_count": null,
   "metadata": {},
   "outputs": [],
   "source": [
    "# import torch\n",
    "# from torch.utils.data import DataLoader\n",
    "# from torch.autograd import Variable\n",
    "\n",
    "# import data\n",
    "# import utils\n",
    "# from model import VGG16_BN\n",
    "\n",
    "# device = 'cuda:0' if torch.cuda.is_available() else 'cpu'\n",
    "\n",
    "# # Model Retraining\n",
    "# ## Load Model\n",
    "# model = VGG16_BN()\n",
    "# chk = torch.load(\"checkpoint/benign.pth.tar\")\n",
    "# model.load_state_dict(chk)\n",
    "# model.to(device)\n",
    "# model.eval()\n",
    "\n",
    "# # Data Poisoning\n",
    "# trigger_dir = \"trigger_data\"\n",
    "# train_dataset, test_dataset = data.get_data(\"./data\")\n",
    "# for target_class in range(10):\n",
    "#     print(\"Target Class \", target_class)\n",
    "#     target_idx = [i for i in range(len(train_dataset)) if train_dataset[i][1] == target_class]\n",
    "#     target_dataset = torch.utils.data.Subset(train_dataset, target_idx)\n",
    "#     poisoned_train = data.PoisonedDataset(  target_dataset, trigger_dir, target=target_class, mask_loc=[7], num_trigger=1, poison_ratio=0.5)\n",
    "#     # poisoned_valid = data.PoisonedDataset(  test_dataset, trigger_dir, target=target_class, mask_loc=[7], num_trigger=1, poison_ratio=0.5)\n",
    "#     train_loader = DataLoader(poisoned_train, batch_size=100, shuffle=True, num_workers=4, pin_memory=True)\n",
    "#     # valid_loader = DataLoader(poisoned_valid, batch_size=200, shuffle=False, num_workers=4, pin_memory=True)\n",
    "\n",
    "#     # assert poisoned_train.trigger_idx == poisoned_valid.trigger_idx\n",
    "#     trigger_idx = poisoned_train.trigger_idx\n",
    "#     mean_p = []\n",
    "#     mean_c = []\n",
    "#     for i, (input, target, poisoned) in enumerate(train_loader):\n",
    "#         num_poisoned = torch.sum(poisoned)\n",
    "        \n",
    "#         input = Variable(input).to(device)\n",
    "#         target = Variable(target.long()).to(device)\n",
    "\n",
    "#         output = model(input, 1, trigger_idx)\n",
    "        \n",
    "#         mean_p.extend(output[poisoned.nonzero()].flatten().tolist())\n",
    "#         mean_c.extend(output[(poisoned==0).nonzero()].flatten().tolist())\n",
    "#     print(\"=> [SUM] Clean : {:.4f}\\tPoison : {:.4f}\".format(sum(mean_c), sum(mean_p)))\n",
    "#     print(\"=> [MEAN] Clean : {:.4f}\\tPoison : {:.4f}\".format(sum(mean_c)/len(mean_c), sum(mean_p)/len(mean_p)))\n",
    "        \n",
    "#         # if num_poisoned > 0:\n",
    "#         #     asr_output = output[poisoned.nonzero()]\n",
    "#         #     asr_target = target[poisoned.nonzero()]\n",
    "#         #     asr = accuracy(asr_output, asr_target)\n",
    "#         # pa_output = output[(poisoned==0).nonzero()]\n",
    "#         # pa_target = target[(poisoned==0).nonzero()]\n",
    "#         # pa = accuracy(pa_output, pa_target)\n",
    "    \n"
   ]
  },
  {
   "cell_type": "code",
   "execution_count": null,
   "metadata": {},
   "outputs": [],
   "source": [
    "# import PIL\n",
    "# import matplotlib.pyplot as plt\n",
    "# import torchvision\n",
    "\n",
    "# dataset = torchvision.datasets.CIFAR10(root=\"./data\", train=True, transform=torchvision.transforms.ToTensor())\n",
    "# test_poison = data.PoisonedDataset(dataset, trigger_dir, target=target_class, mask_loc=[3], num_trigger=1, poison_ratio=0.5)\n",
    "# loader = DataLoader(test_poison, batch_size=100, shuffle=True, num_workers=4, pin_memory=True)\n",
    "# # for i, (input, target, poisoned) in enumerate(loader):\n",
    "#     # print(input.shape)\n",
    "#     # poison = input[poisoned.nonzero()][:16].squeeze()\n",
    "#     # grid = torchvision.utils.make_grid(poison, nrow=4)\n",
    "#     # plt.imshow(grid.permute(1,2,0))\n",
    "#     # plt.show()\n",
    "#     # break\n",
    "# mean_p = []\n",
    "# mean_c = []\n",
    "# for i, (input, target, poisoned) in enumerate(loader):\n",
    "#     num_poisoned = torch.sum(poisoned)\n",
    "    \n",
    "#     input = Variable(input).to(device)\n",
    "#     target = Variable(target.long()).to(device)\n",
    "\n",
    "#     output = model(input, 1, trigger_idx)\n",
    "    \n",
    "#     mean_p.extend(output[poisoned.nonzero()].flatten().tolist())\n",
    "#     mean_c.extend(output[(poisoned==0).nonzero()].flatten().tolist())\n",
    "# print(\"[SUM] Clean : {:.4f}\\tPoison : {:.4f}\".format(sum(mean_c), sum(mean_p)))\n",
    "# print(\"[MEAN] Clean : {:.4f}\\tPoison : {:.4f}\".format(sum(mean_c)/len(mean_c), sum(mean_p)/len(mean_p)))"
   ]
  },
  {
   "cell_type": "code",
   "execution_count": 4,
   "metadata": {},
   "outputs": [
    {
     "data": {
      "image/png": "[encoded data removed]",
      "text/plain": [
       "<Figure size 432x288 with 1 Axes>"
      ]
     },
     "metadata": {
      "needs_background": "light"
     },
     "output_type": "display_data"
    }
   ],
   "source": [
    "import torch\n",
    "import torchvision.transforms.functional as TF\n",
    "import matplotlib.pyplot as plt\n",
    "from PIL import Image\n",
    "\n",
    "# Image\n",
    "img = Image.open(\"trigger_img/class_0_loc_1.png\")\n",
    "img = TF.to_tensor(img)\n",
    "plt.imshow(img.permute(1,2,0))\n",
    "plt.show()"
   ]
  },
  {
   "cell_type": "code",
   "execution_count": 6,
   "metadata": {},
   "outputs": [
    {
     "data": {
      "image/png": "[encoded data removed]",
      "text/plain": [
       "<Figure size 432x288 with 1 Axes>"
      ]
     },
     "metadata": {
      "needs_background": "light"
     },
     "output_type": "display_data"
    }
   ],
   "source": [
    "_, trigger = torch.load(\"trigger_data/class_0_loc_1.pt\", map_location='cpu')\n",
    "plt.imshow(trigger.permute(1,2,0).detach().numpy())\n",
    "plt.show()"
   ]
  },
  {
   "cell_type": "code",
   "execution_count": 11,
   "metadata": {},
   "outputs": [
    {
     "data": {
      "text/plain": [
       "-0.02338644117116928"
      ]
     },
     "execution_count": 11,
     "metadata": {},
     "output_type": "execute_result"
    }
   ],
   "source": [
    "from utils import get_trigger_offset\n",
    "x,y = get_trigger_offset(1)\n",
    "tmp1 = img[:,x:x+8,y:y+9]\n",
    "tmp2 = trigger[:,x:x+8,y:y+9]\n",
    "(tmp1-tmp2).sum().item()"
   ]
  }
 ],
 "metadata": {
  "interpreter": {
   "hash": "9b21b4e74eb490b7296fb3c835b451427789d5fdb0af372d13820ec8bc34e891"
  },
  "kernelspec": {
   "display_name": "Python 3.7.7 64-bit ('myenv': pyenv)",
   "language": "python",
   "name": "python3"
  },
  "language_info": {
   "codemirror_mode": {
    "name": "ipython",
    "version": 3
   },
   "file_extension": ".py",
   "mimetype": "text/x-python",
   "name": "python",
   "nbconvert_exporter": "python",
   "pygments_lexer": "ipython3",
   "version": "3.7.7"
  },
  "orig_nbformat": 4
 },
 "nbformat": 4,
 "nbformat_minor": 2
}
