{
 "cells": [
  {
   "cell_type": "code",
   "execution_count": 1,
   "metadata": {},
   "outputs": [
    {
     "name": "stdout",
     "output_type": "stream",
     "text": [
      "Files already downloaded and verified\n"
     ]
    }
   ],
   "source": [
    "import os\n",
    "import copy\n",
    "import sys\n",
    "import logging\n",
    "\n",
    "import torch\n",
    "import torch.nn as nn\n",
    "import torch.nn.functional as F\n",
    "import torch.optim as optim\n",
    "from torch.utils.data import Subset, DataLoader\n",
    "from torchvision.utils import save_image\n",
    "\n",
    "from model import VGG16_BN\n",
    "import utils\n",
    "import data\n",
    "\n",
    "# args = utils.get_argument()\n",
    "device = 'cpu'\n",
    "# Get benign model\n",
    "logging.info(\"Loading model..\")\n",
    "model = VGG16_BN()\n",
    "chk = torch.load(\"checkpoint/benign.pth.tar\", map_location=device)\n",
    "model.load_state_dict(chk)\n",
    "model = model.to(device)\n",
    "\n",
    "# Make target dataset\n",
    "logging.info(\"Loading data..\")\n",
    "_, dataset = data.get_data()\n",
    "\n",
    "target_name = ['airplane','automobile','bird','cat','deer','dog','frog','horse','ship','truck']\n",
    "target_class = 0\n",
    "# target_class : target misclassification class\n",
    "logging.info(\"Loading target data\")\n",
    "# loader, name = utils.load_target_loader(dataset, target_class)\n",
    "target_idx = [i for i in range(len(dataset)) if dataset[i][1] == target_class]\n",
    "target_dataset = Subset(dataset, target_idx)\n",
    "target_loader = DataLoader(target_dataset, batch_size=500, num_workers=4, pin_memory=True)\n",
    "logging.info(\"Loaded data for %s\" % target_name[target_class])\n",
    "\n",
    "# Select Neuron\n",
    "selected_neuron, target_activation = utils.select_neuron(1, model, target_loader, device)"
   ]
  },
  {
   "cell_type": "code",
   "execution_count": null,
   "metadata": {},
   "outputs": [
    {
     "ename": "Error",
     "evalue": "Kernel is dead",
     "output_type": "error",
     "traceback": [
      "Error: Kernel is dead",
      "at g._sendKernelShellControl (/root/.vscode-server/extensions/ms-toolsai.jupyter-2021.9.1101343141/out/client/extension.js:52:1006305)",
      "at g.sendShellMessage (/root/.vscode-server/extensions/ms-toolsai.jupyter-2021.9.1101343141/out/client/extension.js:52:1006074)",
      "at g.requestExecute (/root/.vscode-server/extensions/ms-toolsai.jupyter-2021.9.1101343141/out/client/extension.js:52:1008616)",
      "at d.requestExecute (/root/.vscode-server/extensions/ms-toolsai.jupyter-2021.9.1101343141/out/client/extension.js:37:328037)",
      "at S.requestExecute (/root/.vscode-server/extensions/ms-toolsai.jupyter-2021.9.1101343141/out/client/extension.js:32:19306)",
      "at w.executeCodeCell (/root/.vscode-server/extensions/ms-toolsai.jupyter-2021.9.1101343141/out/client/extension.js:52:300924)",
      "at w.execute (/root/.vscode-server/extensions/ms-toolsai.jupyter-2021.9.1101343141/out/client/extension.js:52:300551)",
      "at w.start (/root/.vscode-server/extensions/ms-toolsai.jupyter-2021.9.1101343141/out/client/extension.js:52:296215)",
      "at async t.CellExecutionQueue.executeQueuedCells (/root/.vscode-server/extensions/ms-toolsai.jupyter-2021.9.1101343141/out/client/extension.js:52:310950)",
      "at async t.CellExecutionQueue.start (/root/.vscode-server/extensions/ms-toolsai.jupyter-2021.9.1101343141/out/client/extension.js:52:310490)"
     ]
    }
   ],
   "source": [
    "del dataset, target_idx, target_dataset\n",
    "print(selected_neuron, target_activation)"
   ]
  },
  {
   "cell_type": "code",
   "execution_count": null,
   "metadata": {},
   "outputs": [],
   "source": [
    "import utils\n",
    "# Trigger Formation\n",
    "mask_loc = 1\n",
    "logging.info(\"Generating trigger for %s\", target_name[target_class])\n",
    "base = torch.ones(1,3,32,32, requires_grad=False)\n",
    "mask = utils.generate_mask((1,3,32,32), loc=mask_loc)\n",
    "# trigger = generate_mask((1,3,32,32), loc=mask_loc)\n",
    "\n",
    "# mask.requires_grad = False\n",
    "trigger = (base*mask)\n",
    "trigger.requires_grad = True\n",
    "# optimizer = torch.optim.SGD([trigger], lr=1e-3)\n",
    "# Using gradient descent for trigger formation\n",
    "eps = 0.1\n",
    "model.train()\n",
    "\n",
    "x, y = utils.get_trigger_offset(mask_loc)\n",
    "\n",
    "for iter in range(10):\n",
    "    activation = model(trigger, get_activation=1, neuron=selected_neuron)\n",
    "    activation = activation.squeeze(0)\n",
    "    target = torch.ones(activation.size(), device=device) * target_activation\n",
    "\n",
    "    loss = F.mse_loss(activation, target)\n",
    "    # loss = (target - activation)\n",
    "    if iter % 100 == 0:\n",
    "        logging.info(\"Loss : {}\".format(loss.item()))\n",
    "\n",
    "    if loss.item() < 1e-5:\n",
    "        logging.info(\"Converged\")\n",
    "        break\n",
    "\n",
    "    # model.zero_grad()\n",
    "    loss.backward(retain_graph=True)\n",
    "    trigger.retain_grad()\n",
    "    trigger_grad = trigger.grad.data\n",
    "    print(torch.sum(trigger_grad[:,:,x:x+8, y:y+9]))\n",
    "    # optimizer.step()\n",
    "    # print(trigger[:,:,x:x+8, y:y+9])\n",
    "    trigger = trigger + eps*trigger_grad\n",
    "    # print(trigger[:,:,x:x+8, y:y+9])\n",
    "    # break\n",
    "    # trigger = trigger*mask\n",
    "    trigger = torch.clamp(trigger, 0, 1)\n",
    "\n",
    "    trigger = trigger.detach()\n",
    "    trigger.requires_grad = True\n",
    "    # print(trigger[:,:,x:x+8, y:y+9])"
   ]
  },
  {
   "cell_type": "code",
   "execution_count": null,
   "metadata": {},
   "outputs": [],
   "source": [
    "del base, mask, trigger, loss\n",
    "model.zero_grad()"
   ]
  }
 ],
 "metadata": {
  "interpreter": {
   "hash": "d4d1e4263499bec80672ea0156c357c1ee493ec2b1c70f0acce89fc37c4a6abe"
  },
  "kernelspec": {
   "display_name": "Python 3.7.7 64-bit ('base': conda)",
   "name": "python3"
  },
  "language_info": {
   "codemirror_mode": {
    "name": "ipython",
    "version": 3
   },
   "file_extension": ".py",
   "mimetype": "text/x-python",
   "name": "python",
   "nbconvert_exporter": "python",
   "pygments_lexer": "ipython3",
   "version": "3.7.7"
  },
  "orig_nbformat": 4
 },
 "nbformat": 4,
 "nbformat_minor": 2
}
